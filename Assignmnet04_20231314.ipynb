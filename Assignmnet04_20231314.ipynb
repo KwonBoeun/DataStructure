{
 "cells": [
  {
   "cell_type": "markdown",
   "id": "38599cfa-b687-4d75-bda6-db3a3915e7cf",
   "metadata": {},
   "source": [
    "# LeetCode 225. Implement Stack using Queues\n",
    "## Solution\n",
    "* 스택은 LIFO 방식, 큐는 FIFO 방식이다. 따라서 **pop, top 같은 경우에는 주어진 큐의 맨 앞부분을 처리**하면 된다.\n",
    "* push의 경우는 두 개의 큐를 활용하여 **새로운 값을 추가하고 큐를 바꾸는 형태로 처리**할 수 있다. "
   ]
  },
  {
   "cell_type": "code",
   "execution_count": 1,
   "id": "cf1ff033-6aa0-41b3-a00b-aa84edabab1f",
   "metadata": {},
   "outputs": [],
   "source": [
    "class MyStack:\n",
    "\n",
    "    def __init__(self):\n",
    "        self.queue1=[]\n",
    "        self.queue2=[]  \n",
    "\n",
    "    def push(self, x: int) -> None:\n",
    "        self.queue2.append(x)\n",
    "        while self.queue1:\n",
    "            k = self.queue1.pop(0)\n",
    "            self.queue2.append(k)\n",
    "        self.queue1, self.queue2 = self.queue2, self.queue1\n",
    "\n",
    "    def pop(self) -> int:\n",
    "        if self.queue1:\n",
    "            return self.queue1.pop(0)\n",
    "        return None\n",
    "\n",
    "\n",
    "    def top(self) -> int:\n",
    "        if self.queue1:\n",
    "            return self.queue1[0]\n",
    "        return None\n",
    "\n",
    "\n",
    "    def empty(self) -> bool:\n",
    "        return len(self.queue1)==0"
   ]
  },
  {
   "cell_type": "markdown",
   "id": "ab31185f-b4fc-4f32-8338-095b910c8c7e",
   "metadata": {},
   "source": [
    "# LeetCode 232. Implement Queue using Stacks\n",
    "## Solution\n",
    "* push의 경우, **스택의 마지막에 추가**하는 방식으로 처리하면 된다.\n",
    "* push나 peak의 경우는 주어진 스택이 비어있지 않을 경우에 **stack1에 있던 원소들을 stack2로 옮긴 후, 각 함수의 요구 조건에 맞게 코드를 구상**하면 된다."
   ]
  },
  {
   "cell_type": "code",
   "execution_count": 2,
   "id": "62ab2ef3-526a-44f8-9157-d34c8f943aa7",
   "metadata": {},
   "outputs": [],
   "source": [
    "class MyQueue:\n",
    "\n",
    "    def __init__(self):\n",
    "        self.stack1=[]\n",
    "        self.stack2=[]\n",
    "\n",
    "    def push(self, x: int) -> None:\n",
    "        self.stack1.append(x)\n",
    "\n",
    "    def pop(self) -> int:\n",
    "        if not self.stack2:\n",
    "            while self.stack1:\n",
    "                k = self.stack1.pop()\n",
    "                self.stack2.append(k)\n",
    "        return self.stack2.pop()\n",
    "\n",
    "    def peek(self) -> int:\n",
    "        if not self.stack2:\n",
    "            while self.stack1:\n",
    "                k = self.stack1.pop()\n",
    "                self.stack2.append(k)\n",
    "        return self.stack2[-1]\n",
    "\n",
    "    def empty(self) -> bool:\n",
    "        return len(self.stack1)==0 and len(self.stack2)==0"
   ]
  },
  {
   "cell_type": "markdown",
   "id": "ccbc58aa-a27c-4f59-8c42-78b2d1b226d4",
   "metadata": {},
   "source": [
    "# 연습문제 7장(큐)\n",
    "## 7-1\n",
    "* 문제에서 큐의 front와 tail를 바꿨으므로 **enqueue, dequeue, front 함수 정의를 바꿔주면** 된다."
   ]
  },
  {
   "cell_type": "code",
   "execution_count": 1,
   "id": "33aa8ddb-4c25-45dc-bd29-3eb35c0d82b3",
   "metadata": {},
   "outputs": [],
   "source": [
    "class ListQueue:\n",
    "    def __init__(self):\n",
    "        self.__queue = []\n",
    "\n",
    "    def enqueue(self, x):\n",
    "        self.__queue.insert(0,x)\n",
    "\n",
    "    def dequeue(self):\n",
    "        return self.__queue.pop()\n",
    "\n",
    "    def front(self):\n",
    "        return self.__queue[-1]\n",
    "\n",
    "    def isEmpty(self) -> bool:\n",
    "        return len(self.__queue) == 0\n",
    "\n",
    "    def dequeueAll(self):\n",
    "        self.__queue.clear()"
   ]
  },
  {
   "cell_type": "markdown",
   "id": "7fbd9cb2-c376-4f97-b6ce-abc778bbe2ee",
   "metadata": {},
   "source": [
    "## 7-2\n",
    "* 주어진 문자열에서 \\$의 앞부분을 큐에 저장한 후 해당 큐에서 **dequeue한 문자들과 \\$ 뒤의 문자들이 같은지를 판별**하는 형태로 코드를 구상하였다."
   ]
  },
  {
   "cell_type": "code",
   "execution_count": 2,
   "id": "0786d508-dd0d-42d6-b239-b663029b2114",
   "metadata": {},
   "outputs": [
    {
     "name": "stdout",
     "output_type": "stream",
     "text": [
      "True\n",
      "False\n"
     ]
    }
   ],
   "source": [
    "def check_str(s):\n",
    "    q = ListQueue()\n",
    "    i = 0\n",
    "    while s[i] != '$':\n",
    "        q.enqueue(s[i])\n",
    "        i += 1\n",
    "    i += 1\n",
    "\n",
    "    while i < len(s):\n",
    "        if s[i] == q.dequeue():\n",
    "            return True\n",
    "        else:\n",
    "            return False\n",
    "\n",
    "print(check_str('abc$abc'))\n",
    "print(check_str('cde$dec'))"
   ]
  },
  {
   "cell_type": "markdown",
   "id": "8b5f9cc9-3abd-4e33-b416-cf1e835fae8f",
   "metadata": {},
   "source": [
    "## 7-3\n",
    "* 임시 큐와 복사 큐를 만든 후, **원래의 큐의 원소들을 dequeue하여 각각의 큐에 저장**하였다.\n",
    "* 이 경우 원래의 큐는 비어있는 상태이므로 **다시 임시 큐의 원소들을 dequeue하여 원래의 큐에 저장**하는 방식으로 코드를 구상하였다."
   ]
  },
  {
   "cell_type": "code",
   "execution_count": 3,
   "id": "804fa720-05da-4bcb-bdd8-5475fa3c1933",
   "metadata": {},
   "outputs": [],
   "source": [
    "def copy_str(original_q):\n",
    "    temp_q=LinkedQueue()\n",
    "    q=LinkedQueue()\n",
    "\n",
    "    while not original_q.isEmpty():\n",
    "        k = original_q.dequeue()\n",
    "        temp_q.enqueue(k)\n",
    "        q.enqueue(k)\n",
    "    while not temp_q.isEmpty():\n",
    "        t = temp_q.dequeue()\n",
    "        original_q.enqueue(t)\n",
    "    return q"
   ]
  },
  {
   "cell_type": "markdown",
   "id": "ca95ee41-e47a-4a09-a81f-57ea06a197cd",
   "metadata": {},
   "source": [
    "## 7-4\n",
    "* leetcode 225와 같은 방식으로 문제를 풀었다."
   ]
  },
  {
   "cell_type": "code",
   "execution_count": 4,
   "id": "bf797708-ee5a-427f-bf28-c395a0aac7d7",
   "metadata": {},
   "outputs": [],
   "source": [
    "class Stack_using_Queue:\n",
    "\n",
    "    def __init__(self):\n",
    "        self.queue1=[]\n",
    "        self.queue2=[]\n",
    "\n",
    "    def push(self, x: int) -> None:\n",
    "        self.queue2.append(x)\n",
    "        while self.queue1:\n",
    "            k = self.queue1.pop(0)\n",
    "            self.queue2.append(k)\n",
    "        self.queue1, self.queue2 = self.queue2, self.queue1\n",
    "\n",
    "    def pop(self) -> int:\n",
    "        if self.queue1:\n",
    "            return self.queue1.pop(0)\n",
    "        return None"
   ]
  },
  {
   "cell_type": "markdown",
   "id": "4fb2099d-eed9-46e5-a4f2-16a147e801a1",
   "metadata": {},
   "source": [
    "## 7-5\n",
    "* leetcode 232와 같은 방식으로 문제를 풀었다."
   ]
  },
  {
   "cell_type": "code",
   "execution_count": 5,
   "id": "ca50cd35-0bfe-43a6-814f-8a81a1179b88",
   "metadata": {},
   "outputs": [],
   "source": [
    "class Queue_using_stack:\n",
    "\n",
    "    def __init__(self):\n",
    "        self.stack1=[]\n",
    "        self.stack2=[]\n",
    "\n",
    "    def enqueue(self, x: int) -> None:\n",
    "        self.stack1.append(x)\n",
    "\n",
    "    def dequeue(self) -> int:\n",
    "        if not self.stack2:\n",
    "            while self.stack1:\n",
    "                k = self.stack1.pop()\n",
    "                self.stack2.append(k)\n",
    "        return self.stack2.pop()"
   ]
  },
  {
   "cell_type": "markdown",
   "id": "36c9c358-3904-4340-b02a-4fd13ab66596",
   "metadata": {},
   "source": [
    "## 7-6\n",
    "\n",
    "CircularLinkeList의 경우, head노드를 기준으로 이후, 이전 노드가 리스트의 맨 앞 노드, 맨 마지막 노드이기 때문에 접근이 쉽다. 즉, **각 노드까지 접근하기 위해서는 head를 알고 있다는 가정 하에 한 번의 처리로 해결**할 수 있다. 따라서 enqueue()와 dequeue()의 수행시간은 각각 다음과 같다.\n",
    "* enqueue() → **O(1)**\n",
    "* dequeue() → **O(1)**"
   ]
  },
  {
   "cell_type": "markdown",
   "id": "fa3d1a8b-2423-4fa2-955a-a7f6e4e01f51",
   "metadata": {},
   "source": [
    "## 7-7\n",
    "\n",
    "CircularLinkedList와 달리 LinkedListBasic의 경우, **맨 마지막 원소를 찾기 위해서는 전체 리스트를 순회**해야한다. 따라서 enqueue()와 dequeue()의 수행시간은 각각 다음과 같다.\n",
    "* enqueue() : 리스트의 끝에 원소를 추가해야 하므로 전체 리스트 순회 필요 → **O(n)**\n",
    "* dequeue() : 리스트의 첫 번째 원소를 제거 → **O(1)**"
   ]
  },
  {
   "cell_type": "markdown",
   "id": "21450795-5ae7-4a47-a5c2-0403eb5ddf9d",
   "metadata": {},
   "source": [
    "## 7-8\n",
    "**Deque는 맨 앞과 뒤 모두 처리가 가능**하기 때문에 추가로 맨 앞 삽입, 맨 뒤 삭제, 맨 뒤 원소 확인이 가능하다. 따라서 이를 추가한 클래스 Deque는 다음과 같다."
   ]
  },
  {
   "cell_type": "code",
   "execution_count": 7,
   "id": "c411b471-2626-49df-af8a-f1892e236db8",
   "metadata": {},
   "outputs": [],
   "source": [
    "class Deque:\n",
    "    def __init__(self):\n",
    "        self.__queue = []\n",
    "\n",
    "    def enqueue_front(self,x):\n",
    "        self.__queue.insert(0,x)\n",
    "\n",
    "    def enqueue_back(self,x):\n",
    "        self.__queue.append(x)\n",
    "\n",
    "    def dequeue_front(self):\n",
    "        return self.__queue.pop(0)\n",
    "\n",
    "    def dequeue_back(self):\n",
    "\n",
    "        return self.__queue.pop()\n",
    "\n",
    "    def front(self):\n",
    "        if self.isEmpty():\n",
    "            return None\n",
    "        else:\n",
    "            return self.__queue[0]\n",
    "\n",
    "    def back(self):\n",
    "        if self.isEmpty():\n",
    "            return None\n",
    "        else:\n",
    "            return self.__queue[-1]\n",
    "\n",
    "    def isEmpty(self) -> bool:\n",
    "        return (len(self.__queue)==0);\n",
    "\n",
    "    def dequeueAll(self):\n",
    "        self.__queue.clear()\n",
    "\n",
    "    def printQueue(self):\n",
    "        print(\"Queue from front:\", end = ' ')\n",
    "        for i in range(len(self.__queue)):\n",
    "            print(self.__queue[i], end =' ')\n",
    "        print()"
   ]
  }
 ],
 "metadata": {
  "kernelspec": {
   "display_name": "Python 3 (ipykernel)",
   "language": "python",
   "name": "python3"
  },
  "language_info": {
   "codemirror_mode": {
    "name": "ipython",
    "version": 3
   },
   "file_extension": ".py",
   "mimetype": "text/x-python",
   "name": "python",
   "nbconvert_exporter": "python",
   "pygments_lexer": "ipython3",
   "version": "3.9.12"
  }
 },
 "nbformat": 4,
 "nbformat_minor": 5
}
