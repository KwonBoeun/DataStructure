{
 "cells": [
  {
   "cell_type": "code",
   "execution_count": 1,
   "id": "184f0172-37a8-4019-a4e5-f9912f8c229a",
   "metadata": {},
   "outputs": [],
   "source": [
    "class MyStack:\n",
    "\n",
    "    def __init__(self):\n",
    "        self.queue1=[]\n",
    "        self.queue2=[]  \n",
    "\n",
    "    def push(self, x: int) -> None:\n",
    "        self.queue2.append(x)\n",
    "        while self.queue1:\n",
    "            k = self.queue1.pop(0)\n",
    "            self.queue2.append(k)\n",
    "        self.queue1, self.queue2 = self.queue2, self.queue1\n",
    "\n",
    "    def pop(self) -> int:\n",
    "        if self.queue1:\n",
    "            return self.queue1.pop(0)\n",
    "        return None\n",
    "\n",
    "\n",
    "    def top(self) -> int:\n",
    "        if self.queue1:\n",
    "            return self.queue1[0]\n",
    "        return None\n",
    "\n",
    "\n",
    "    def empty(self) -> bool:\n",
    "        return len(self.queue1)==0"
   ]
  }
 ],
 "metadata": {
  "kernelspec": {
   "display_name": "Python 3 (ipykernel)",
   "language": "python",
   "name": "python3"
  },
  "language_info": {
   "codemirror_mode": {
    "name": "ipython",
    "version": 3
   },
   "file_extension": ".py",
   "mimetype": "text/x-python",
   "name": "python",
   "nbconvert_exporter": "python",
   "pygments_lexer": "ipython3",
   "version": "3.9.12"
  }
 },
 "nbformat": 4,
 "nbformat_minor": 5
}
