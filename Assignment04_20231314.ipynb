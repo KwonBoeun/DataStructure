{
 "cells": [
  {
   "cell_type": "code",
   "execution_count": null,
   "id": "759bf08a-8a05-46c2-82b5-2c85722ba925",
   "metadata": {},
   "outputs": [],
   "source": [
    "# LeetCode 225. Implement Stack using Queues"
   ]
  },
  {
   "cell_type": "code",
   "execution_count": null,
   "id": "b3379f95-11dc-4e55-931e-be76e4a2a353",
   "metadata": {},
   "outputs": [],
   "source": [
    "## Solution\n",
    "\n",
    "class MyStack:\n",
    "\n",
    "    def __init__(self):\n",
    "        self.queue1=[]\n",
    "        self.queue2=[]  \n",
    "\n",
    "    def push(self, x: int) -> None:\n",
    "        self.queue2.append(x)\n",
    "        while self.queue1:\n",
    "            k = self.queue1.pop(0)\n",
    "            self.queue2.append(k)\n",
    "        self.queue1, self.queue2 = self.queue2, self.queue1\n",
    "\n",
    "    def pop(self) -> int:\n",
    "        if self.queue1:\n",
    "            return self.queue1.pop(0)\n",
    "        return None\n",
    "\n",
    "\n",
    "    def top(self) -> int:\n",
    "        if self.queue1:\n",
    "            return self.queue1[0]\n",
    "        return None\n",
    "\n",
    "\n",
    "    def empty(self) -> bool:\n",
    "        return len(self.queue1)==0"
   ]
  },
  {
   "cell_type": "code",
   "execution_count": null,
   "id": "9042e1e9-77d3-4e11-af38-3abd5a60c6e8",
   "metadata": {},
   "outputs": [],
   "source": [
    "# LeetCode 2232. Inplement Queue using Stacks"
   ]
  },
  {
   "cell_type": "code",
   "execution_count": null,
   "id": "e9e4f7e7-f2f6-49b0-8ab7-d75ae1437b22",
   "metadata": {},
   "outputs": [],
   "source": []
  }
 ],
 "metadata": {
  "kernelspec": {
   "display_name": "Python 3 (ipykernel)",
   "language": "python",
   "name": "python3"
  },
  "language_info": {
   "codemirror_mode": {
    "name": "ipython",
    "version": 3
   },
   "file_extension": ".py",
   "mimetype": "text/x-python",
   "name": "python",
   "nbconvert_exporter": "python",
   "pygments_lexer": "ipython3",
   "version": "3.9.12"
  }
 },
 "nbformat": 4,
 "nbformat_minor": 5
}
